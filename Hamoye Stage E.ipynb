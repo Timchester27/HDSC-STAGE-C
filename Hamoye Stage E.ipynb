{
 "cells": [
  {
   "cell_type": "code",
   "execution_count": 1,
   "id": "3dcfca68",
   "metadata": {},
   "outputs": [],
   "source": [
    "import pandas as pd\n",
    "import numpy as np\n",
    "import matplotlib.pyplot as plt"
   ]
  },
  {
   "cell_type": "code",
   "execution_count": 2,
   "id": "857ff8be",
   "metadata": {},
   "outputs": [],
   "source": [
    "import io\n",
    "df2 = pd.read_csv('household_power_consumption.txt', sep=';', parse_dates={'DATE' : ['Date', 'Time']}, infer_datetime_format=True, \n",
    "                 low_memory=False, index_col='DATE')"
   ]
  },
  {
   "cell_type": "code",
   "execution_count": 3,
   "id": "0f7e18e3",
   "metadata": {},
   "outputs": [
    {
     "data": {
      "text/html": [
       "<div>\n",
       "<style scoped>\n",
       "    .dataframe tbody tr th:only-of-type {\n",
       "        vertical-align: middle;\n",
       "    }\n",
       "\n",
       "    .dataframe tbody tr th {\n",
       "        vertical-align: top;\n",
       "    }\n",
       "\n",
       "    .dataframe thead th {\n",
       "        text-align: right;\n",
       "    }\n",
       "</style>\n",
       "<table border=\"1\" class=\"dataframe\">\n",
       "  <thead>\n",
       "    <tr style=\"text-align: right;\">\n",
       "      <th></th>\n",
       "      <th>Global_active_power</th>\n",
       "      <th>Global_reactive_power</th>\n",
       "      <th>Voltage</th>\n",
       "      <th>Global_intensity</th>\n",
       "      <th>Sub_metering_1</th>\n",
       "      <th>Sub_metering_2</th>\n",
       "      <th>Sub_metering_3</th>\n",
       "    </tr>\n",
       "    <tr>\n",
       "      <th>DATE</th>\n",
       "      <th></th>\n",
       "      <th></th>\n",
       "      <th></th>\n",
       "      <th></th>\n",
       "      <th></th>\n",
       "      <th></th>\n",
       "      <th></th>\n",
       "    </tr>\n",
       "  </thead>\n",
       "  <tbody>\n",
       "    <tr>\n",
       "      <th>2006-12-16 17:24:00</th>\n",
       "      <td>4.216</td>\n",
       "      <td>0.418</td>\n",
       "      <td>234.840</td>\n",
       "      <td>18.400</td>\n",
       "      <td>0.000</td>\n",
       "      <td>1.000</td>\n",
       "      <td>17.0</td>\n",
       "    </tr>\n",
       "    <tr>\n",
       "      <th>2006-12-16 17:25:00</th>\n",
       "      <td>5.360</td>\n",
       "      <td>0.436</td>\n",
       "      <td>233.630</td>\n",
       "      <td>23.000</td>\n",
       "      <td>0.000</td>\n",
       "      <td>1.000</td>\n",
       "      <td>16.0</td>\n",
       "    </tr>\n",
       "    <tr>\n",
       "      <th>2006-12-16 17:26:00</th>\n",
       "      <td>5.374</td>\n",
       "      <td>0.498</td>\n",
       "      <td>233.290</td>\n",
       "      <td>23.000</td>\n",
       "      <td>0.000</td>\n",
       "      <td>2.000</td>\n",
       "      <td>17.0</td>\n",
       "    </tr>\n",
       "    <tr>\n",
       "      <th>2006-12-16 17:27:00</th>\n",
       "      <td>5.388</td>\n",
       "      <td>0.502</td>\n",
       "      <td>233.740</td>\n",
       "      <td>23.000</td>\n",
       "      <td>0.000</td>\n",
       "      <td>1.000</td>\n",
       "      <td>17.0</td>\n",
       "    </tr>\n",
       "    <tr>\n",
       "      <th>2006-12-16 17:28:00</th>\n",
       "      <td>3.666</td>\n",
       "      <td>0.528</td>\n",
       "      <td>235.680</td>\n",
       "      <td>15.800</td>\n",
       "      <td>0.000</td>\n",
       "      <td>1.000</td>\n",
       "      <td>17.0</td>\n",
       "    </tr>\n",
       "  </tbody>\n",
       "</table>\n",
       "</div>"
      ],
      "text/plain": [
       "                    Global_active_power Global_reactive_power  Voltage  \\\n",
       "DATE                                                                     \n",
       "2006-12-16 17:24:00               4.216                 0.418  234.840   \n",
       "2006-12-16 17:25:00               5.360                 0.436  233.630   \n",
       "2006-12-16 17:26:00               5.374                 0.498  233.290   \n",
       "2006-12-16 17:27:00               5.388                 0.502  233.740   \n",
       "2006-12-16 17:28:00               3.666                 0.528  235.680   \n",
       "\n",
       "                    Global_intensity Sub_metering_1 Sub_metering_2  \\\n",
       "DATE                                                                 \n",
       "2006-12-16 17:24:00           18.400          0.000          1.000   \n",
       "2006-12-16 17:25:00           23.000          0.000          1.000   \n",
       "2006-12-16 17:26:00           23.000          0.000          2.000   \n",
       "2006-12-16 17:27:00           23.000          0.000          1.000   \n",
       "2006-12-16 17:28:00           15.800          0.000          1.000   \n",
       "\n",
       "                     Sub_metering_3  \n",
       "DATE                                 \n",
       "2006-12-16 17:24:00            17.0  \n",
       "2006-12-16 17:25:00            16.0  \n",
       "2006-12-16 17:26:00            17.0  \n",
       "2006-12-16 17:27:00            17.0  \n",
       "2006-12-16 17:28:00            17.0  "
      ]
     },
     "execution_count": 3,
     "metadata": {},
     "output_type": "execute_result"
    }
   ],
   "source": [
    "df2.head()"
   ]
  },
  {
   "cell_type": "code",
   "execution_count": 4,
   "id": "466a7583",
   "metadata": {},
   "outputs": [
    {
     "data": {
      "text/plain": [
       "Global_active_power          0\n",
       "Global_reactive_power        0\n",
       "Voltage                      0\n",
       "Global_intensity             0\n",
       "Sub_metering_1               0\n",
       "Sub_metering_2               0\n",
       "Sub_metering_3           25979\n",
       "dtype: int64"
      ]
     },
     "execution_count": 4,
     "metadata": {},
     "output_type": "execute_result"
    }
   ],
   "source": [
    "df2.isnull().sum()"
   ]
  },
  {
   "cell_type": "code",
   "execution_count": 5,
   "id": "a2f77089",
   "metadata": {},
   "outputs": [],
   "source": [
    "df2.replace('?', 'nan', inplace=True)\n",
    "df2 = df2.astype('float32')"
   ]
  },
  {
   "cell_type": "code",
   "execution_count": 6,
   "id": "2f33e0db",
   "metadata": {},
   "outputs": [],
   "source": [
    "df2 = df2.fillna(df2.mean())"
   ]
  },
  {
   "cell_type": "code",
   "execution_count": 7,
   "id": "faec2dd6",
   "metadata": {},
   "outputs": [
    {
     "name": "stdout",
     "output_type": "stream",
     "text": [
      "            Global_active_power  Global_reactive_power       Voltage  \\\n",
      "DATE                                                                   \n",
      "2006-12-16          1209.176025              34.922001   93552.53125   \n",
      "2006-12-17          3390.459961             226.005997  345725.31250   \n",
      "2006-12-18          2203.825928             161.792007  347373.62500   \n",
      "2006-12-19          1666.193970             150.942001  348479.00000   \n",
      "2006-12-20          2225.748047             160.998001  348923.62500   \n",
      "\n",
      "            Global_intensity  Sub_metering_1  Sub_metering_2  Sub_metering_3  \n",
      "DATE                                                                          \n",
      "2006-12-16       5180.799805             0.0           546.0          4926.0  \n",
      "2006-12-17      14398.599609          2033.0          4187.0         13341.0  \n",
      "2006-12-18       9247.200195          1063.0          2621.0         14018.0  \n",
      "2006-12-19       7094.000000           839.0          7602.0          6197.0  \n",
      "2006-12-20       9313.000000             0.0          2648.0         14063.0  \n"
     ]
    }
   ],
   "source": [
    "data_res = df2.resample('D').sum()\n",
    "print(data_res.head())"
   ]
  },
  {
   "cell_type": "code",
   "execution_count": 8,
   "id": "18f28ed3",
   "metadata": {},
   "outputs": [
    {
     "data": {
      "text/html": [
       "<div>\n",
       "<style scoped>\n",
       "    .dataframe tbody tr th:only-of-type {\n",
       "        vertical-align: middle;\n",
       "    }\n",
       "\n",
       "    .dataframe tbody tr th {\n",
       "        vertical-align: top;\n",
       "    }\n",
       "\n",
       "    .dataframe thead th {\n",
       "        text-align: right;\n",
       "    }\n",
       "</style>\n",
       "<table border=\"1\" class=\"dataframe\">\n",
       "  <thead>\n",
       "    <tr style=\"text-align: right;\">\n",
       "      <th></th>\n",
       "      <th>Global_active_power</th>\n",
       "      <th>Global_reactive_power</th>\n",
       "      <th>Voltage</th>\n",
       "      <th>Global_intensity</th>\n",
       "      <th>Sub_metering_1</th>\n",
       "      <th>Sub_metering_2</th>\n",
       "      <th>Sub_metering_3</th>\n",
       "    </tr>\n",
       "  </thead>\n",
       "  <tbody>\n",
       "    <tr>\n",
       "      <th>count</th>\n",
       "      <td>2.075259e+06</td>\n",
       "      <td>2.075259e+06</td>\n",
       "      <td>2.075259e+06</td>\n",
       "      <td>2.075259e+06</td>\n",
       "      <td>2.075259e+06</td>\n",
       "      <td>2.075259e+06</td>\n",
       "      <td>2.075259e+06</td>\n",
       "    </tr>\n",
       "    <tr>\n",
       "      <th>mean</th>\n",
       "      <td>1.091615e+00</td>\n",
       "      <td>1.237143e-01</td>\n",
       "      <td>2.408717e+02</td>\n",
       "      <td>4.627778e+00</td>\n",
       "      <td>1.121923e+00</td>\n",
       "      <td>1.298519e+00</td>\n",
       "      <td>6.458445e+00</td>\n",
       "    </tr>\n",
       "    <tr>\n",
       "      <th>std</th>\n",
       "      <td>1.050655e+00</td>\n",
       "      <td>1.120142e-01</td>\n",
       "      <td>3.232019e+00</td>\n",
       "      <td>4.416490e+00</td>\n",
       "      <td>6.114397e+00</td>\n",
       "      <td>5.785470e+00</td>\n",
       "      <td>8.384177e+00</td>\n",
       "    </tr>\n",
       "    <tr>\n",
       "      <th>min</th>\n",
       "      <td>7.600000e-02</td>\n",
       "      <td>0.000000e+00</td>\n",
       "      <td>2.232000e+02</td>\n",
       "      <td>2.000000e-01</td>\n",
       "      <td>0.000000e+00</td>\n",
       "      <td>0.000000e+00</td>\n",
       "      <td>0.000000e+00</td>\n",
       "    </tr>\n",
       "    <tr>\n",
       "      <th>25%</th>\n",
       "      <td>3.100000e-01</td>\n",
       "      <td>4.800000e-02</td>\n",
       "      <td>2.390200e+02</td>\n",
       "      <td>1.400000e+00</td>\n",
       "      <td>0.000000e+00</td>\n",
       "      <td>0.000000e+00</td>\n",
       "      <td>0.000000e+00</td>\n",
       "    </tr>\n",
       "    <tr>\n",
       "      <th>50%</th>\n",
       "      <td>6.300000e-01</td>\n",
       "      <td>1.020000e-01</td>\n",
       "      <td>2.410500e+02</td>\n",
       "      <td>2.800000e+00</td>\n",
       "      <td>0.000000e+00</td>\n",
       "      <td>0.000000e+00</td>\n",
       "      <td>1.000000e+00</td>\n",
       "    </tr>\n",
       "    <tr>\n",
       "      <th>75%</th>\n",
       "      <td>1.520000e+00</td>\n",
       "      <td>1.920000e-01</td>\n",
       "      <td>2.429700e+02</td>\n",
       "      <td>6.400000e+00</td>\n",
       "      <td>0.000000e+00</td>\n",
       "      <td>1.000000e+00</td>\n",
       "      <td>1.700000e+01</td>\n",
       "    </tr>\n",
       "    <tr>\n",
       "      <th>max</th>\n",
       "      <td>1.112200e+01</td>\n",
       "      <td>1.390000e+00</td>\n",
       "      <td>2.541500e+02</td>\n",
       "      <td>4.840000e+01</td>\n",
       "      <td>8.800000e+01</td>\n",
       "      <td>8.000000e+01</td>\n",
       "      <td>3.100000e+01</td>\n",
       "    </tr>\n",
       "  </tbody>\n",
       "</table>\n",
       "</div>"
      ],
      "text/plain": [
       "       Global_active_power  Global_reactive_power       Voltage  \\\n",
       "count         2.075259e+06           2.075259e+06  2.075259e+06   \n",
       "mean          1.091615e+00           1.237143e-01  2.408717e+02   \n",
       "std           1.050655e+00           1.120142e-01  3.232019e+00   \n",
       "min           7.600000e-02           0.000000e+00  2.232000e+02   \n",
       "25%           3.100000e-01           4.800000e-02  2.390200e+02   \n",
       "50%           6.300000e-01           1.020000e-01  2.410500e+02   \n",
       "75%           1.520000e+00           1.920000e-01  2.429700e+02   \n",
       "max           1.112200e+01           1.390000e+00  2.541500e+02   \n",
       "\n",
       "       Global_intensity  Sub_metering_1  Sub_metering_2  Sub_metering_3  \n",
       "count      2.075259e+06    2.075259e+06    2.075259e+06    2.075259e+06  \n",
       "mean       4.627778e+00    1.121923e+00    1.298519e+00    6.458445e+00  \n",
       "std        4.416490e+00    6.114397e+00    5.785470e+00    8.384177e+00  \n",
       "min        2.000000e-01    0.000000e+00    0.000000e+00    0.000000e+00  \n",
       "25%        1.400000e+00    0.000000e+00    0.000000e+00    0.000000e+00  \n",
       "50%        2.800000e+00    0.000000e+00    0.000000e+00    1.000000e+00  \n",
       "75%        6.400000e+00    0.000000e+00    1.000000e+00    1.700000e+01  \n",
       "max        4.840000e+01    8.800000e+01    8.000000e+01    3.100000e+01  "
      ]
     },
     "execution_count": 8,
     "metadata": {},
     "output_type": "execute_result"
    }
   ],
   "source": [
    "df2.describe(include='all')"
   ]
  },
  {
   "cell_type": "code",
   "execution_count": 17,
   "id": "fd965584",
   "metadata": {},
   "outputs": [
    {
     "data": {
      "text/plain": [
       "0.2470170525119239"
      ]
     },
     "execution_count": 17,
     "metadata": {},
     "output_type": "execute_result"
    }
   ],
   "source": [
    "import scipy\n",
    "import scipy.stats\n",
    "from scipy.stats import pearsonr\n",
    "corr,_ = pearsonr(df2.Global_active_power,df2.Global_reactive_power)\n",
    "corr"
   ]
  },
  {
   "cell_type": "code",
   "execution_count": 9,
   "id": "bdd51b32",
   "metadata": {},
   "outputs": [
    {
     "data": {
      "text/plain": [
       "[<matplotlib.lines.Line2D at 0xbba232df28>]"
      ]
     },
     "execution_count": 9,
     "metadata": {},
     "output_type": "execute_result"
    },
    {
     "data": {
      "image/png": "[encoded data removed]",
      "text/plain": [
       "<Figure size 432x288 with 1 Axes>"
      ]
     },
     "metadata": {
      "needs_background": "light"
     },
     "output_type": "display_data"
    }
   ],
   "source": [
    "plt.plot(data_res.index,data_res.Global_active_power)"
   ]
  },
  {
   "cell_type": "code",
   "execution_count": 11,
   "id": "add4a80d",
   "metadata": {},
   "outputs": [
    {
     "data": {
      "text/html": [
       "<div>\n",
       "<style scoped>\n",
       "    .dataframe tbody tr th:only-of-type {\n",
       "        vertical-align: middle;\n",
       "    }\n",
       "\n",
       "    .dataframe tbody tr th {\n",
       "        vertical-align: top;\n",
       "    }\n",
       "\n",
       "    .dataframe thead th {\n",
       "        text-align: right;\n",
       "    }\n",
       "</style>\n",
       "<table border=\"1\" class=\"dataframe\">\n",
       "  <thead>\n",
       "    <tr style=\"text-align: right;\">\n",
       "      <th></th>\n",
       "      <th>Global_active_power</th>\n",
       "      <th>Global_reactive_power</th>\n",
       "      <th>Voltage</th>\n",
       "      <th>Global_intensity</th>\n",
       "      <th>Sub_metering_1</th>\n",
       "      <th>Sub_metering_2</th>\n",
       "      <th>Sub_metering_3</th>\n",
       "    </tr>\n",
       "  </thead>\n",
       "  <tbody>\n",
       "    <tr>\n",
       "      <th>Global_active_power</th>\n",
       "      <td>1.000000</td>\n",
       "      <td>0.041098</td>\n",
       "      <td>0.062393</td>\n",
       "      <td>0.999182</td>\n",
       "      <td>0.545338</td>\n",
       "      <td>0.481370</td>\n",
       "      <td>0.732613</td>\n",
       "    </tr>\n",
       "    <tr>\n",
       "      <th>Global_reactive_power</th>\n",
       "      <td>0.041098</td>\n",
       "      <td>1.000000</td>\n",
       "      <td>0.050946</td>\n",
       "      <td>0.062937</td>\n",
       "      <td>0.319394</td>\n",
       "      <td>0.182199</td>\n",
       "      <td>0.035568</td>\n",
       "    </tr>\n",
       "    <tr>\n",
       "      <th>Voltage</th>\n",
       "      <td>0.062393</td>\n",
       "      <td>0.050946</td>\n",
       "      <td>1.000000</td>\n",
       "      <td>0.052214</td>\n",
       "      <td>-0.003525</td>\n",
       "      <td>-0.013305</td>\n",
       "      <td>0.095189</td>\n",
       "    </tr>\n",
       "    <tr>\n",
       "      <th>Global_intensity</th>\n",
       "      <td>0.999182</td>\n",
       "      <td>0.062937</td>\n",
       "      <td>0.052214</td>\n",
       "      <td>1.000000</td>\n",
       "      <td>0.557975</td>\n",
       "      <td>0.490773</td>\n",
       "      <td>0.724145</td>\n",
       "    </tr>\n",
       "    <tr>\n",
       "      <th>Sub_metering_1</th>\n",
       "      <td>0.545338</td>\n",
       "      <td>0.319394</td>\n",
       "      <td>-0.003525</td>\n",
       "      <td>0.557975</td>\n",
       "      <td>1.000000</td>\n",
       "      <td>0.251585</td>\n",
       "      <td>0.308917</td>\n",
       "    </tr>\n",
       "    <tr>\n",
       "      <th>Sub_metering_2</th>\n",
       "      <td>0.481370</td>\n",
       "      <td>0.182199</td>\n",
       "      <td>-0.013305</td>\n",
       "      <td>0.490773</td>\n",
       "      <td>0.251585</td>\n",
       "      <td>1.000000</td>\n",
       "      <td>0.198360</td>\n",
       "    </tr>\n",
       "    <tr>\n",
       "      <th>Sub_metering_3</th>\n",
       "      <td>0.732613</td>\n",
       "      <td>0.035568</td>\n",
       "      <td>0.095189</td>\n",
       "      <td>0.724145</td>\n",
       "      <td>0.308917</td>\n",
       "      <td>0.198360</td>\n",
       "      <td>1.000000</td>\n",
       "    </tr>\n",
       "  </tbody>\n",
       "</table>\n",
       "</div>"
      ],
      "text/plain": [
       "                       Global_active_power  Global_reactive_power   Voltage  \\\n",
       "Global_active_power               1.000000               0.041098  0.062393   \n",
       "Global_reactive_power             0.041098               1.000000  0.050946   \n",
       "Voltage                           0.062393               0.050946  1.000000   \n",
       "Global_intensity                  0.999182               0.062937  0.052214   \n",
       "Sub_metering_1                    0.545338               0.319394 -0.003525   \n",
       "Sub_metering_2                    0.481370               0.182199 -0.013305   \n",
       "Sub_metering_3                    0.732613               0.035568  0.095189   \n",
       "\n",
       "                       Global_intensity  Sub_metering_1  Sub_metering_2  \\\n",
       "Global_active_power            0.999182        0.545338        0.481370   \n",
       "Global_reactive_power          0.062937        0.319394        0.182199   \n",
       "Voltage                        0.052214       -0.003525       -0.013305   \n",
       "Global_intensity               1.000000        0.557975        0.490773   \n",
       "Sub_metering_1                 0.557975        1.000000        0.251585   \n",
       "Sub_metering_2                 0.490773        0.251585        1.000000   \n",
       "Sub_metering_3                 0.724145        0.308917        0.198360   \n",
       "\n",
       "                       Sub_metering_3  \n",
       "Global_active_power          0.732613  \n",
       "Global_reactive_power        0.035568  \n",
       "Voltage                      0.095189  \n",
       "Global_intensity             0.724145  \n",
       "Sub_metering_1               0.308917  \n",
       "Sub_metering_2               0.198360  \n",
       "Sub_metering_3               1.000000  "
      ]
     },
     "execution_count": 11,
     "metadata": {},
     "output_type": "execute_result"
    }
   ],
   "source": [
    "data_res.corr()"
   ]
  },
  {
   "cell_type": "code",
   "execution_count": 16,
   "id": "f722468a",
   "metadata": {},
   "outputs": [
    {
     "data": {
      "text/plain": [
       "-0.4097846327279185"
      ]
     },
     "execution_count": 16,
     "metadata": {},
     "output_type": "execute_result"
    }
   ],
   "source": [
    "corr,_ = pearsonr(df2.Voltage,df2.Global_intensity)\n",
    "corr"
   ]
  },
  {
   "cell_type": "code",
   "execution_count": 18,
   "id": "2c253eb5",
   "metadata": {},
   "outputs": [
    {
     "data": {
      "text/plain": [
       "DATE                     datetime64[ns]\n",
       "Global_active_power             float32\n",
       "Global_reactive_power           float32\n",
       "Voltage                         float32\n",
       "Global_intensity                float32\n",
       "Sub_metering_1                  float32\n",
       "Sub_metering_2                  float32\n",
       "Sub_metering_3                  float32\n",
       "dtype: object"
      ]
     },
     "execution_count": 18,
     "metadata": {},
     "output_type": "execute_result"
    }
   ],
   "source": [
    "data_res.reset_index(inplace=True)\n",
    "\n",
    "\n",
    "x_test = data_res.tail(365)\n",
    "x_train =data_res[:-365]\n",
    "\n",
    "data_res.dtypes"
   ]
  },
  {
   "cell_type": "code",
   "execution_count": 21,
   "id": "74905303",
   "metadata": {},
   "outputs": [],
   "source": [
    "df_uni = data_res[['DATE','Global_active_power']]\n",
    "\n",
    "# making a new dataframe from df_daily2 but renaming the columns\n",
    "new_df = df_uni.rename(columns={\"DATE\": \"ds\", \"Global_active_power\": \"y\"})"
   ]
  },
  {
   "cell_type": "code",
   "execution_count": null,
   "id": "bb437957",
   "metadata": {},
   "outputs": [],
   "source": [
    "from fbprophet import Prophet\n",
    "x_test_uni = new_df.tail(365)\n",
    "x_train_uni = new_df[:-365]"
   ]
  },
  {
   "cell_type": "code",
   "execution_count": null,
   "id": "ff15f14d",
   "metadata": {},
   "outputs": [],
   "source": [
    "model = Prophet()\n",
    "model.fit(x_train_uni)\n",
    "\n",
    "future = model.make_future_dataframe(periods=365 , freq= 'D' )\n",
    "result_uni = model.predict(future)\n",
    "\n",
    "result_uni.shape"
   ]
  },
  {
   "cell_type": "code",
   "execution_count": null,
   "id": "a4f75087",
   "metadata": {},
   "outputs": [],
   "source": [
    "result_uni.head()"
   ]
  },
  {
   "cell_type": "code",
   "execution_count": null,
   "id": "b2945977",
   "metadata": {},
   "outputs": [],
   "source": [
    "model.plot(result_uni)\n",
    "plt.show()"
   ]
  },
  {
   "cell_type": "code",
   "execution_count": null,
   "id": "42abc40f",
   "metadata": {},
   "outputs": [],
   "source": [
    "def mean_absolute_percentage_error(y_true, y_pred): \n",
    "    y_true, y_pred = np.array(y_true), np.array(y_pred)\n",
    "    return np.mean(np.abs((y_true - y_pred) / y_true)) * 100\n"
   ]
  },
  {
   "cell_type": "code",
   "execution_count": null,
   "id": "68fb91f9",
   "metadata": {},
   "outputs": [],
   "source": [
    "# MAPE\n",
    "mean_absolute_percentage_error(x_test_uni['y'], result_uni['yhat'][-365:])"
   ]
  },
  {
   "cell_type": "code",
   "execution_count": null,
   "id": "09f2bd93",
   "metadata": {},
   "outputs": [],
   "source": [
    "from sklearn.metrics import mean_squared_error\n",
    "from math import sqrt\n",
    "\n",
    "rmse = sqrt(mean_squared_error(x_test_uni['y'], result_uni['yhat'][-365:]))\n",
    "print(rmse)"
   ]
  },
  {
   "cell_type": "code",
   "execution_count": null,
   "id": "bb3b8671",
   "metadata": {},
   "outputs": [],
   "source": [
    "# statsmodels is a Python module for statistical models,conducting statistical tests and statistical data exploration.\n",
    "import statsmodels.api as sm\n",
    "\n",
    "from pylab import rcParams\n",
    "#pylab is a module within the matplotlib library that was built to mimic MATLAB’s global style , All module objects starting with “rc” are a means to interact with your plot styles and settings\n",
    "\n",
    "rcParams['figure.figsize']= 15,8"
   ]
  },
  {
   "cell_type": "code",
   "execution_count": null,
   "id": "68e09a07",
   "metadata": {},
   "outputs": [],
   "source": [
    "plt.plot(result_uni['ds'],result_uni['yearly'])\n",
    "plt.show()"
   ]
  },
  {
   "cell_type": "code",
   "execution_count": null,
   "id": "714e3a75",
   "metadata": {},
   "outputs": [],
   "source": [
    "model.plot_components(result_uni)"
   ]
  },
  {
   "cell_type": "code",
   "execution_count": null,
   "id": "dc69692f",
   "metadata": {},
   "outputs": [],
   "source": [
    "new_df = data_res.copy()\n",
    "\n",
    "\n",
    "\n",
    "# making a new dataframe from df_daily2 but renaming the columns\n",
    "new_df_mul= new_df.rename(columns={\"DATE\": \"ds\", \"Global_active_power\": \"y\",\"Global_reactive_power\": \"add1\",\"Voltage\": \"add2\",\"Global_intensity\": \"add3\",\"Sub_metering_1\": \"add4\",\"Sub_metering_2\": \"add5\",\"Sub_metering_3\": \"add6\"})"
   ]
  },
  {
   "cell_type": "code",
   "execution_count": null,
   "id": "a622fed7",
   "metadata": {},
   "outputs": [],
   "source": [
    "x_test_multi = new_df_mul.tail(365)\n",
    "x_train_multi = new_df_mul[:-365]\n",
    "\n",
    "print(x_train_multi)"
   ]
  },
  {
   "cell_type": "code",
   "execution_count": null,
   "id": "1db53eed",
   "metadata": {},
   "outputs": [],
   "source": [
    "#Adding regressors\n",
    "# regressor = ['add1','add2','add3','add4','add5','add6]\n",
    "model_multi = Prophet()\n",
    "model_multi.add_regressor('add1')\n",
    "model_multi.add_regressor('add2')\n",
    "model_multi.add_regressor('add3')\n",
    "model_multi.add_regressor('add4')\n",
    "model_multi.add_regressor('add5')\n",
    "model_multi.add_regressor('add6')"
   ]
  },
  {
   "cell_type": "code",
   "execution_count": null,
   "id": "4081e899",
   "metadata": {},
   "outputs": [],
   "source": [
    "model_multi.fit(x_train_multi)"
   ]
  },
  {
   "cell_type": "code",
   "execution_count": null,
   "id": "4587320f",
   "metadata": {},
   "outputs": [],
   "source": [
    "future_multi = model_multi.make_future_dataframe(periods=365,freq='D')\n",
    "future_multi['add1'] = new_df_mul['add1'].values\n",
    "future_multi['add2'] = new_df_mul['add2'].values\n",
    "future_multi['add3'] = new_df_mul['add3'].values\n",
    "future_multi['add4'] = new_df_mul['add4'].values\n",
    "future_multi['add5'] = new_df_mul['add5'].values\n",
    "future_multi['add6'] = new_df_mul['add6'].values\n",
    "result_multi= model_multi.predict(future_multi)"
   ]
  },
  {
   "cell_type": "code",
   "execution_count": null,
   "id": "57e083e1",
   "metadata": {},
   "outputs": [],
   "source": [
    "future_multi.shape"
   ]
  },
  {
   "cell_type": "code",
   "execution_count": null,
   "id": "075e01f1",
   "metadata": {},
   "outputs": [],
   "source": [
    "model_multi.plot(result_multi)\n",
    "plt.show()"
   ]
  },
  {
   "cell_type": "code",
   "execution_count": null,
   "id": "b139e60c",
   "metadata": {},
   "outputs": [],
   "source": [
    "# MAPE\n",
    "mean_absolute_percentage_error( x_test_multi['y'][-365:], result_multi['yhat'][-365:])"
   ]
  },
  {
   "cell_type": "code",
   "execution_count": null,
   "id": "d1bb94d0",
   "metadata": {},
   "outputs": [],
   "source": [
    "rmse_multi = sqrt(mean_squared_error( x_test_multi['y'][-365:], result_multi['yhat'][-365:]))\n",
    "print(rmse_multi)"
   ]
  },
  {
   "cell_type": "code",
   "execution_count": null,
   "id": "8532f986",
   "metadata": {},
   "outputs": [],
   "source": [
    "model_multi.plot_components(result_multi)"
   ]
  }
 ],
 "metadata": {
  "kernelspec": {
   "display_name": "Python 3",
   "language": "python",
   "name": "python3"
  },
  "language_info": {
   "codemirror_mode": {
    "name": "ipython",
    "version": 3
   },
   "file_extension": ".py",
   "mimetype": "text/x-python",
   "name": "python",
   "nbconvert_exporter": "python",
   "pygments_lexer": "ipython3",
   "version": "3.7.0"
  }
 },
 "nbformat": 4,
 "nbformat_minor": 5
}
